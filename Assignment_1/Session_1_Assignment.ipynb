{
  "nbformat": 4,
  "nbformat_minor": 0,
  "metadata": {
    "colab": {
      "name": "Copy of END2.0 Session 1.ipynb",
      "provenance": [],
      "collapsed_sections": []
    },
    "kernelspec": {
      "display_name": "Python 3",
      "name": "python3"
    },
    "language_info": {
      "name": "python"
    }
  },
  "cells": [
    {
      "cell_type": "code",
      "metadata": {
        "colab": {
          "base_uri": "https://localhost:8080/"
        },
        "id": "GC_6PeobwwkH",
        "outputId": "5076a4b8-af49-4d57-e1e2-9f8e21c5cb8f"
      },
      "source": [
        "import torch\n",
        "from torch.autograd import Variable\n",
        "import torch.nn as nn\n",
        "import torch.nn.functional as F\n",
        "import torch.optim as optim\n",
        "import numpy as np\n",
        "import matplotlib.pyplot as plt\n",
        "%matplotlib inline\n",
        "torch.manual_seed(2)"
      ],
      "execution_count": 7,
      "outputs": [
        {
          "output_type": "execute_result",
          "data": {
            "text/plain": [
              "<torch._C.Generator at 0x7fb3ea055710>"
            ]
          },
          "metadata": {
            "tags": []
          },
          "execution_count": 7
        }
      ]
    },
    {
      "cell_type": "code",
      "metadata": {
        "id": "bL64bMTkw2GP"
      },
      "source": [
        "X = torch.Tensor([[0,0], [0,1], [1,0], [1,1]])\n",
        "Y = torch.Tensor([0, 1, 1, 0]).view(-1,1)"
      ],
      "execution_count": 8,
      "outputs": []
    },
    {
      "cell_type": "code",
      "metadata": {
        "id": "aC82kEAIw3Wf"
      },
      "source": [
        "class XOR(nn.Module):\n",
        "    def __init__(self, input_dim = 2, output_dim=1):\n",
        "        super(XOR, self).__init__()\n",
        "        # Added 5 neurons in the first hidden layer and added one more hidden \n",
        "        # layer to make the number of parameters to 44 \n",
        "        self.lin1 = nn.Linear(input_dim, 5)\n",
        "        self.lin2 = nn.Linear(5, 4) \n",
        "        self.lin3 = nn.Linear(4, output_dim)\n",
        "    \n",
        "    def forward(self, x):\n",
        "        x = self.lin1(x)\n",
        "        x = F.tanh(x)\n",
        "        x = self.lin2(x)\n",
        "        x = F.tanh(x)\n",
        "        x = self.lin3(x)      \n",
        "       # x = F.tanh(x)  # Removing the last activation function\n",
        "        return x"
      ],
      "execution_count": 9,
      "outputs": []
    },
    {
      "cell_type": "code",
      "metadata": {
        "colab": {
          "base_uri": "https://localhost:8080/"
        },
        "id": "8gQIQExYw65K",
        "outputId": "e68fbb5e-c9f7-4699-dad7-7bb512b2d0d2"
      },
      "source": [
        "model = XOR()\n",
        "print(model)\n",
        "from torchsummary import summary\n",
        "summary(model, (2,2))"
      ],
      "execution_count": 10,
      "outputs": [
        {
          "output_type": "stream",
          "text": [
            "XOR(\n",
            "  (lin1): Linear(in_features=2, out_features=5, bias=True)\n",
            "  (lin2): Linear(in_features=5, out_features=4, bias=True)\n",
            "  (lin3): Linear(in_features=4, out_features=1, bias=True)\n",
            ")\n",
            "----------------------------------------------------------------\n",
            "        Layer (type)               Output Shape         Param #\n",
            "================================================================\n",
            "            Linear-1                 [-1, 2, 5]              15\n",
            "            Linear-2                 [-1, 2, 4]              24\n",
            "            Linear-3                 [-1, 2, 1]               5\n",
            "================================================================\n",
            "Total params: 44\n",
            "Trainable params: 44\n",
            "Non-trainable params: 0\n",
            "----------------------------------------------------------------\n",
            "Input size (MB): 0.00\n",
            "Forward/backward pass size (MB): 0.00\n",
            "Params size (MB): 0.00\n",
            "Estimated Total Size (MB): 0.00\n",
            "----------------------------------------------------------------\n"
          ],
          "name": "stdout"
        },
        {
          "output_type": "stream",
          "text": [
            "/usr/local/lib/python3.7/dist-packages/torch/nn/functional.py:1698: UserWarning: nn.functional.tanh is deprecated. Use torch.tanh instead.\n",
            "  warnings.warn(\"nn.functional.tanh is deprecated. Use torch.tanh instead.\")\n"
          ],
          "name": "stderr"
        }
      ]
    },
    {
      "cell_type": "code",
      "metadata": {
        "id": "yeotEq19x6XF"
      },
      "source": [
        "def weights_init(model):\n",
        "    for m in model.modules():\n",
        "        if isinstance(m, nn.Linear):\n",
        "            # initialize the weight tensor, here we use a normal distribution\n",
        "            m.weight.data.normal_(0, 1)\n",
        "\n",
        "weights_init(model)"
      ],
      "execution_count": 11,
      "outputs": []
    },
    {
      "cell_type": "code",
      "metadata": {
        "id": "WrD_sNzLx78e"
      },
      "source": [
        "loss_func = nn.L1Loss()"
      ],
      "execution_count": 12,
      "outputs": []
    },
    {
      "cell_type": "code",
      "metadata": {
        "id": "-zvbrMd2x_lA"
      },
      "source": [
        "optimizer = optim.SGD(model.parameters(), lr=0.02, momentum=0.9)\n"
      ],
      "execution_count": 13,
      "outputs": []
    },
    {
      "cell_type": "code",
      "metadata": {
        "colab": {
          "base_uri": "https://localhost:8080/"
        },
        "id": "q7tWa3D7yA5X",
        "outputId": "a12601c2-ff20-4707-a5e0-7aa7c4613888"
      },
      "source": [
        "# Increased the epochs to 2001 from 300 epochs\n",
        "epochs = 2001\n",
        "steps = X.size(0)\n",
        "for i in range(epochs):\n",
        "    for j in range(steps):\n",
        "        data_point = np.random.randint(X.size(0))\n",
        "        x_var = Variable(X[data_point], requires_grad=False)\n",
        "        y_var = Variable(Y[data_point], requires_grad=False)\n",
        "        \n",
        "        optimizer.zero_grad()\n",
        "        y_hat = model(x_var)\n",
        "        loss = loss_func.forward(y_hat, y_var)\n",
        "        loss.backward()\n",
        "        optimizer.step()\n",
        "        \n",
        "    if i % 50 == 0:\n",
        "        print( \"Epoch: {0}, Loss: {1}, \".format(i, loss.data.numpy()))"
      ],
      "execution_count": 16,
      "outputs": [
        {
          "output_type": "stream",
          "text": [
            "/usr/local/lib/python3.7/dist-packages/torch/nn/functional.py:1698: UserWarning: nn.functional.tanh is deprecated. Use torch.tanh instead.\n",
            "  warnings.warn(\"nn.functional.tanh is deprecated. Use torch.tanh instead.\")\n"
          ],
          "name": "stderr"
        },
        {
          "output_type": "stream",
          "text": [
            "Epoch: 0, Loss: 0.05365633964538574, \n",
            "Epoch: 50, Loss: 0.08467549085617065, \n",
            "Epoch: 100, Loss: 0.2757887840270996, \n",
            "Epoch: 150, Loss: 0.19183862209320068, \n",
            "Epoch: 200, Loss: 0.020607054233551025, \n",
            "Epoch: 250, Loss: 0.13257956504821777, \n",
            "Epoch: 300, Loss: 0.29084885120391846, \n",
            "Epoch: 350, Loss: 0.014892399311065674, \n",
            "Epoch: 400, Loss: 0.04733860492706299, \n",
            "Epoch: 450, Loss: 0.0701606273651123, \n",
            "Epoch: 500, Loss: 0.17087149620056152, \n",
            "Epoch: 550, Loss: 0.4184001684188843, \n",
            "Epoch: 600, Loss: 0.01606893539428711, \n",
            "Epoch: 650, Loss: 0.057630062103271484, \n",
            "Epoch: 700, Loss: 0.27175188064575195, \n",
            "Epoch: 750, Loss: 0.07226264476776123, \n",
            "Epoch: 800, Loss: 0.1268751621246338, \n",
            "Epoch: 850, Loss: 0.012363135814666748, \n",
            "Epoch: 900, Loss: 0.10135829448699951, \n",
            "Epoch: 950, Loss: 0.0547635555267334, \n",
            "Epoch: 1000, Loss: 0.15158510208129883, \n",
            "Epoch: 1050, Loss: 0.11088001728057861, \n",
            "Epoch: 1100, Loss: 0.01403200626373291, \n",
            "Epoch: 1150, Loss: 0.4132232069969177, \n",
            "Epoch: 1200, Loss: 0.10032445192337036, \n",
            "Epoch: 1250, Loss: 0.07516217231750488, \n",
            "Epoch: 1300, Loss: 0.020986318588256836, \n",
            "Epoch: 1350, Loss: 0.021396756172180176, \n",
            "Epoch: 1400, Loss: 0.13688987493515015, \n",
            "Epoch: 1450, Loss: 0.5126162171363831, \n",
            "Epoch: 1500, Loss: 0.19513630867004395, \n",
            "Epoch: 1550, Loss: 0.09118735790252686, \n",
            "Epoch: 1600, Loss: 0.12765109539031982, \n",
            "Epoch: 1650, Loss: 0.11324179172515869, \n",
            "Epoch: 1700, Loss: 0.37468260526657104, \n",
            "Epoch: 1750, Loss: 0.08722460269927979, \n",
            "Epoch: 1800, Loss: 0.3048872947692871, \n",
            "Epoch: 1850, Loss: 0.036101460456848145, \n",
            "Epoch: 1900, Loss: 0.3506712317466736, \n",
            "Epoch: 1950, Loss: 0.16684353351593018, \n",
            "Epoch: 2000, Loss: 0.10238093137741089, \n"
          ],
          "name": "stdout"
        }
      ]
    }
  ]
}